{
 "cells": [
  {
   "cell_type": "code",
   "execution_count": 2,
   "id": "4175e314",
   "metadata": {},
   "outputs": [],
   "source": [
    "import cv2\n",
    "import os"
   ]
  },
  {
   "cell_type": "code",
   "execution_count": 5,
   "id": "a35d2d51",
   "metadata": {},
   "outputs": [],
   "source": [
    "all_files = []\n",
    "for dirname, _, filenames in os.walk('./sequences'):\n",
    "    for filename in filenames:\n",
    "        all_files.append(os.path.join(dirname, filename).replace('\\\\','/'))"
   ]
  },
  {
   "cell_type": "code",
   "execution_count": 6,
   "id": "18bf3e9d",
   "metadata": {},
   "outputs": [
    {
     "data": {
      "text/plain": [
       "['./sequences/campus/campus4-c0.avi',\n",
       " './sequences/campus/campus4-c1.avi',\n",
       " './sequences/campus/campus4-c2.avi',\n",
       " './sequences/lab/4p-c0.avi',\n",
       " './sequences/lab/4p-c1.avi',\n",
       " './sequences/lab/6p-c3.avi',\n",
       " './sequences/passage/passageway1-c0.avi',\n",
       " './sequences/passage/passageway1-c1.avi',\n",
       " './sequences/passage/passageway1-c2.avi',\n",
       " './sequences/terrace/terrace1-c0.avi',\n",
       " './sequences/terrace/terrace1-c2.avi',\n",
       " './sequences/terrace/terrace1-c3.avi']"
      ]
     },
     "execution_count": 6,
     "metadata": {},
     "output_type": "execute_result"
    }
   ],
   "source": [
    "all_files"
   ]
  },
  {
   "cell_type": "code",
   "execution_count": 15,
   "id": "2f64c518",
   "metadata": {},
   "outputs": [
    {
     "name": "stdout",
     "output_type": "stream",
     "text": [
      "created campus\n",
      "non need\n",
      "non need\n",
      "created lab\n",
      "non need\n",
      "non need\n",
      "created passage\n",
      "non need\n",
      "non need\n",
      "created terrace\n",
      "non need\n",
      "non need\n"
     ]
    }
   ],
   "source": [
    "import cv2\n",
    "for file in all_files:\n",
    "    cap = cv2.VideoCapture(file)\n",
    "    directory = file.split('/')[2]\n",
    "    \n",
    "    try:\n",
    "        os.mkdir(\"./frames/\" + directory)\n",
    "        print(\"created \"+ directory)\n",
    "        i = 0\n",
    "    except:\n",
    "        print(\"non need\")\n",
    "    \n",
    "    # Check if camera opened successfully\n",
    "    if (cap.isOpened()== False):\n",
    "        print(\"Error opening video stream or file\")\n",
    "    # Read until video is completed\n",
    "    while(cap.isOpened()):\n",
    "        # Capture frame-by-frame\n",
    "        ret, frame = cap.read()\n",
    "        if ret == True:\n",
    "            # Display the resulting frame\n",
    "            cv2.imshow('Frame',frame)\n",
    "            # Press Q on keyboard to  exit\n",
    "            cv2.imwrite('./frames/' + directory + \"/\" + str(i) +'.jpg',frame)\n",
    "            i+=1\n",
    "            if cv2.waitKey(25) & 0xFF == ord('q'):\n",
    "                break\n",
    "            \n",
    "        # Break the loop\n",
    "        else:\n",
    "            break\n",
    "    # When everything done, release the video capture object\n",
    "    cap.release()\n",
    "    # Closes all the frames\n",
    "    cv2.destroyAllWindows()"
   ]
  },
  {
   "cell_type": "code",
   "execution_count": null,
   "id": "e1526e9c",
   "metadata": {},
   "outputs": [],
   "source": []
  }
 ],
 "metadata": {
  "kernelspec": {
   "display_name": "Python 3",
   "language": "python",
   "name": "python3"
  },
  "language_info": {
   "codemirror_mode": {
    "name": "ipython",
    "version": 3
   },
   "file_extension": ".py",
   "mimetype": "text/x-python",
   "name": "python",
   "nbconvert_exporter": "python",
   "pygments_lexer": "ipython3",
   "version": "3.7.7"
  }
 },
 "nbformat": 4,
 "nbformat_minor": 5
}
