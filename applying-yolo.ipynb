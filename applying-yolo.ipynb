{
 "cells": [
  {
   "cell_type": "code",
   "execution_count": 1,
   "metadata": {
    "_cell_guid": "b1076dfc-b9ad-4769-8c92-a6c4dae69d19",
    "_uuid": "8f2839f25d086af736a60e9eeb907d3b93b6e0e5",
    "execution": {
     "iopub.execute_input": "2021-06-04T05:03:05.223073Z",
     "iopub.status.busy": "2021-06-04T05:03:05.222555Z",
     "iopub.status.idle": "2021-06-04T05:03:05.234087Z",
     "shell.execute_reply": "2021-06-04T05:03:05.232718Z",
     "shell.execute_reply.started": "2021-06-04T05:03:05.222988Z"
    },
    "scrolled": true
   },
   "outputs": [],
   "source": [
    "import numpy as np # linear algebra\n",
    "import pandas as pd # data processing, CSV file I/O (e.g. pd.read_csv)"
   ]
  },
  {
   "cell_type": "code",
   "execution_count": 2,
   "metadata": {
    "execution": {
     "iopub.execute_input": "2021-06-04T05:03:05.249313Z",
     "iopub.status.busy": "2021-06-04T05:03:05.248970Z",
     "iopub.status.idle": "2021-06-04T05:03:09.419635Z",
     "shell.execute_reply": "2021-06-04T05:03:09.416913Z",
     "shell.execute_reply.started": "2021-06-04T05:03:05.249282Z"
    }
   },
   "outputs": [
    {
     "name": "stdout",
     "output_type": "stream",
     "text": [
      "[INFO] loading YOLO from disk...\n"
     ]
    },
    {
     "ename": "KeyboardInterrupt",
     "evalue": "",
     "output_type": "error",
     "traceback": [
      "\u001b[0;31m---------------------------------------------------------------------------\u001b[0m",
      "\u001b[0;31mKeyboardInterrupt\u001b[0m                         Traceback (most recent call last)",
      "\u001b[0;32m<ipython-input-2-bc816838fb99>\u001b[0m in \u001b[0;36m<module>\u001b[0;34m\u001b[0m\n\u001b[1;32m     20\u001b[0m \u001b[0;31m# load our YOLO object detector trained on COCO dataset (80 classes)\u001b[0m\u001b[0;34m\u001b[0m\u001b[0;34m\u001b[0m\u001b[0;34m\u001b[0m\u001b[0m\n\u001b[1;32m     21\u001b[0m \u001b[0mprint\u001b[0m\u001b[0;34m(\u001b[0m\u001b[0;34m\"[INFO] loading YOLO from disk...\"\u001b[0m\u001b[0;34m)\u001b[0m\u001b[0;34m\u001b[0m\u001b[0;34m\u001b[0m\u001b[0m\n\u001b[0;32m---> 22\u001b[0;31m \u001b[0mnet\u001b[0m \u001b[0;34m=\u001b[0m \u001b[0mcv2\u001b[0m\u001b[0;34m.\u001b[0m\u001b[0mdnn\u001b[0m\u001b[0;34m.\u001b[0m\u001b[0mreadNetFromDarknet\u001b[0m\u001b[0;34m(\u001b[0m\u001b[0mconfigPath\u001b[0m\u001b[0;34m,\u001b[0m \u001b[0mweightsPath\u001b[0m\u001b[0;34m)\u001b[0m\u001b[0;34m\u001b[0m\u001b[0;34m\u001b[0m\u001b[0m\n\u001b[0m\u001b[1;32m     23\u001b[0m \u001b[0;34m\u001b[0m\u001b[0m\n\u001b[1;32m     24\u001b[0m \u001b[0mbboxes_campus\u001b[0m \u001b[0;34m=\u001b[0m \u001b[0;34m{\u001b[0m\u001b[0;34m}\u001b[0m\u001b[0;34m\u001b[0m\u001b[0;34m\u001b[0m\u001b[0m\n",
      "\u001b[0;31mKeyboardInterrupt\u001b[0m: "
     ]
    }
   ],
   "source": [
    "import os\n",
    "import cv2\n",
    "\n",
    "args = {\n",
    "    \"image\" : \"../input/multi-camera-person-tracking-reduced-frames/reduced_frames/campus/reduced_frames3/40.jpg\",\n",
    "    \"yolo\" : \"../input/yolo-coco-data\",\n",
    "    \"confidence\" : 0,\n",
    "    \"threshold\" : 0\n",
    "}\n",
    "\n",
    "labelsPath = os.path.sep.join([args[\"yolo\"], \"coco.names\"])\n",
    "LABELS = open(labelsPath).read().strip().split(\"\\n\")\n",
    "# initialize a list of colors to represent each possible class label\n",
    "np.random.seed(42)\n",
    "COLORS = np.random.randint(0, 255, size=(len(LABELS), 3),\n",
    "\tdtype=\"uint8\")\n",
    "# derive the paths to the YOLO weights and model configuration\n",
    "weightsPath = os.path.sep.join([args[\"yolo\"], \"yolov3.weights\"])\n",
    "configPath = os.path.sep.join([args[\"yolo\"], \"yolov3.cfg\"])\n",
    "# load our YOLO object detector trained on COCO dataset (80 classes)\n",
    "print(\"[INFO] loading YOLO from disk...\")\n",
    "net = cv2.dnn.readNetFromDarknet(configPath, weightsPath)\n",
    "\n",
    "bboxes_campus = {}\n",
    "\n",
    "def yolo(path):\n",
    "    # load our input image and grab its spatial dimensions\n",
    "    path = path\n",
    "    image = cv2.imread(path)\n",
    "    (H, W) = image.shape[:2]\n",
    "    # determine only the *output* layer names that we need from YOLO\n",
    "    ln = net.getLayerNames()\n",
    "    ln = [ln[i[0] - 1] for i in net.getUnconnectedOutLayers()]\n",
    "    # construct a blob from the input image and then perform a forward\n",
    "    # pass of the YOLO object detector, giving us our bounding boxes and\n",
    "    # associated probabilities\n",
    "    blob = cv2.dnn.blobFromImage(image, 1 / 255.0, (416, 416),\n",
    "        swapRB=True, crop=False)\n",
    "    net.setInput(blob)\n",
    "    start = time.time()\n",
    "    layerOutputs = net.forward(ln)\n",
    "    end = time.time()\n",
    "    # show timing information on YOLO\n",
    "#     print(\"[INFO] YOLO took {:.6f} seconds\".format(end - start))\n",
    "    \n",
    "    # initialize our lists of detected bounding boxes, confidences, and\n",
    "    # class IDs, respectively\n",
    "    boxes = []\n",
    "    confidences = []\n",
    "    classIDs = []\n",
    "    \n",
    "    # loop over each of the layer outputs\n",
    "    for output in layerOutputs:\n",
    "        # loop over each of the detections\n",
    "        for detection in output:\n",
    "            # extract the class ID and confidence (i.e., probability) of\n",
    "            # the current object detection\n",
    "            scores = detection[5:]\n",
    "            classID = np.argmax(scores)\n",
    "            confidence = scores[classID]\n",
    "            # filter out weak predictions by ensuring the detected\n",
    "            # probability is greater than the minimum probability\n",
    "            if confidence > args[\"confidence\"]:\n",
    "                # scale the bounding box coordinates back relative to the\n",
    "                # size of the image, keeping in mind that YOLO actually\n",
    "                # returns the center (x, y)-coordinates of the bounding\n",
    "                # box followed by the boxes' width and height\n",
    "                box = detection[0:4] * np.array([W, H, W, H])\n",
    "                (centerX, centerY, width, height) = box.astype(\"int\")\n",
    "                # use the center (x, y)-coordinates to derive the top and\n",
    "                # and left corner of the bounding box\n",
    "                x = int(centerX - (width / 2))\n",
    "                y = int(centerY - (height / 2))\n",
    "                # update our list of bounding box coordinates, confidences,\n",
    "                # and class IDs\n",
    "                boxes.append([x, y, int(width), int(height)])\n",
    "                confidences.append(float(confidence))\n",
    "                classIDs.append(classID)\n",
    "    # apply non-maxima suppression to suppress weak, overlapping bounding\n",
    "    # boxes\n",
    "    idxs = cv2.dnn.NMSBoxes(boxes, confidences, args[\"confidence\"],\n",
    "        args[\"threshold\"])\n",
    "    # ensure at least one detection exists\n",
    "    bbox = []\n",
    "    if len(idxs) > 0:\n",
    "        bbox = []\n",
    "        for i in idxs.flatten():\n",
    "            (x, y) = (boxes[i][0], boxes[i][1])\n",
    "            (w, h) = (boxes[i][2], boxes[i][3])\n",
    "            # draw a bounding box rectangle and label on the image\n",
    "            color = [int(c) for c in COLORS[classIDs[i]]]\n",
    "            cv2.rectangle(image, (x, y), (x + w, y + h), color, 2)\n",
    "            text = \"{}: {:.4f}\".format(LABELS[classIDs[i]], confidences[i])\n",
    "            cv2.putText(image, text, (x, y - 5), cv2.FONT_HERSHEY_SIMPLEX, 0.5, color, 2)\n",
    "            bbox.append([classIDs[i], x, y, w, h ])\n",
    "    # show the output image\n",
    "    cv2.imwrite(\"Image1.png\", image)\n",
    "    bboxes_campus[path.split('/')[-1].split('.')[0]] = bbox\n",
    "#     print(bboxes_campus)\n",
    "    return bboxes_campus "
   ]
  },
  {
   "cell_type": "code",
   "execution_count": null,
   "metadata": {
    "execution": {
     "iopub.status.busy": "2021-06-04T05:03:09.420674Z",
     "iopub.status.idle": "2021-06-04T05:03:09.421175Z"
    }
   },
   "outputs": [],
   "source": [
    "import time\n",
    "yolo(args['image'])"
   ]
  },
  {
   "cell_type": "code",
   "execution_count": null,
   "metadata": {
    "execution": {
     "iopub.status.busy": "2021-06-04T05:03:09.423207Z",
     "iopub.status.idle": "2021-06-04T05:03:09.423764Z"
    },
    "scrolled": true
   },
   "outputs": [],
   "source": [
    "import time\n",
    "\n",
    "## Getting the reduced frames for each of the diven directories\n",
    "\n",
    "directories = ['campus','lab']\n",
    "output_dir = './reduced_frames3'\n",
    "\n",
    "dir_files = {}\n",
    "\n",
    "for directory in directories:\n",
    "    parent_path = '../input/multi-camera-person-tracking-reduced-frames/reduced_frames/' + directory + \"/\"\n",
    "    dirs = os.listdir(parent_path)\n",
    "    needed = 'asdasd'\n",
    "    for item in dirs:\n",
    "        print(os.path.join(parent_path,item))\n",
    "        if(os.path.isdir(os.path.join(parent_path,item))):\n",
    "            needed = item\n",
    "#     print(needed)\n",
    "    \n",
    "    for dirname, _, filenames in os.walk('../input/multi-camera-person-tracking-reduced-frames/reduced_frames/' + directory + \"/\" + needed + \"/\"):\n",
    "        files = []\n",
    "        filenames = map(lambda x: x.split(\".\")[0],filenames)\n",
    "        for filename in sorted(filenames,key=int):\n",
    "            files.append(os.path.join(dirname, filename + \".jpg\"))\n",
    "            print(os.path.join(dirname, filename + \".jpg\"))\n",
    "        dir_files[directory] = files\n",
    "        \n",
    "# out = yolo(args['image'])"
   ]
  },
  {
   "cell_type": "code",
   "execution_count": null,
   "metadata": {
    "execution": {
     "iopub.status.busy": "2021-06-04T05:03:09.429138Z",
     "iopub.status.idle": "2021-06-04T05:03:09.429688Z"
    },
    "scrolled": true
   },
   "outputs": [],
   "source": [
    "#Finding BBoxes of different coco ClassID's in our image and storing their BBox \n",
    "bboxes_all = {}\n",
    "for key in dir_files:\n",
    "    bboxes_campus = {}\n",
    "    print('STARTED ' + key)\n",
    "    for file in dir_files[key]:\n",
    "        out = yolo(file)\n",
    "        print(len(out),\"-\",list(out.keys())[-1],end = \"-\")\n",
    "        print()\n",
    "    bboxes_all[key] = out\n",
    "    print(bboxes_all)"
   ]
  },
  {
   "cell_type": "code",
   "execution_count": null,
   "metadata": {
    "execution": {
     "iopub.status.busy": "2021-06-04T05:03:09.434901Z",
     "iopub.status.idle": "2021-06-04T05:03:09.435376Z"
    },
    "scrolled": true
   },
   "outputs": [],
   "source": [
    "bboxes_all\n"
   ]
  },
  {
   "cell_type": "code",
   "execution_count": null,
   "metadata": {
    "execution": {
     "iopub.status.busy": "2021-06-04T05:03:09.436728Z",
     "iopub.status.idle": "2021-06-04T05:03:09.437728Z"
    }
   },
   "outputs": [],
   "source": [
    "# Dumping this dict of scene and BBoxes into a pickle file\n",
    "\n",
    "import pickle\n",
    "\n",
    "with open('filename.pickle', 'wb') as handle:\n",
    "    pickle.dump(bboxes_all, handle, protocol=pickle.HIGHEST_PROTOCOL)"
   ]
  },
  {
   "cell_type": "code",
   "execution_count": null,
   "metadata": {
    "execution": {
     "iopub.status.busy": "2021-06-04T05:03:09.439440Z",
     "iopub.status.idle": "2021-06-04T05:03:09.440348Z"
    }
   },
   "outputs": [],
   "source": [
    "from IPython.display import FileLink\n",
    "\n",
    "FileLink(r'filename.pickle')"
   ]
  },
  {
   "cell_type": "code",
   "execution_count": null,
   "metadata": {},
   "outputs": [],
   "source": []
  }
 ],
 "metadata": {
  "kernelspec": {
   "display_name": "Python 3",
   "language": "python",
   "name": "python3"
  },
  "language_info": {
   "codemirror_mode": {
    "name": "ipython",
    "version": 3
   },
   "file_extension": ".py",
   "mimetype": "text/x-python",
   "name": "python",
   "nbconvert_exporter": "python",
   "pygments_lexer": "ipython3",
   "version": "3.7.7"
  }
 },
 "nbformat": 4,
 "nbformat_minor": 4
}
