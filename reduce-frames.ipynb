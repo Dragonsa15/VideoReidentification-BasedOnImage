{
 "cells": [
  {
   "cell_type": "code",
   "execution_count": null,
   "metadata": {
    "_cell_guid": "b1076dfc-b9ad-4769-8c92-a6c4dae69d19",
    "_uuid": "8f2839f25d086af736a60e9eeb907d3b93b6e0e5",
    "execution": {
     "iopub.execute_input": "2021-06-04T04:44:44.426534Z",
     "iopub.status.busy": "2021-06-04T04:44:44.426027Z",
     "iopub.status.idle": "2021-06-04T04:44:44.432562Z",
     "shell.execute_reply": "2021-06-04T04:44:44.431314Z",
     "shell.execute_reply.started": "2021-06-04T04:44:44.426489Z"
    }
   },
   "outputs": [],
   "source": [
    "# This Python 3 environment comes with many helpful analytics libraries installed\n",
    "# It is defined by the kaggle/python Docker image: https://github.com/kaggle/docker-python\n",
    "# For example, here's several helpful packages to load\n",
    "\n",
    "import numpy as np # linear algebra\n",
    "import pandas as pd # data processing, CSV file I/O (e.g. pd.read_csv)\n",
    "\n",
    "# Input data files are available in the read-only \"../input/\" directory\n",
    "# For example, running this (by clicking run or pressing Shift+Enter) will list all files under the input directory\n",
    "import torch\n",
    "import os\n",
    "# for dirname, _, filenames in os.walk('/kaggle/input'):\n",
    "#     for filename in filenames:\n",
    "#         print(os.path.join(dirname, filename))\n",
    "\n",
    "# You can write up to 20GB to the current directory (/kaggle/working/) that gets preserved as output when you create a version using \"Save & Run All\" \n",
    "# You can also write temporary files to /kaggle/temp/, but they won't be saved outside of the current session"
   ]
  },
  {
   "cell_type": "code",
   "execution_count": null,
   "metadata": {
    "execution": {
     "iopub.execute_input": "2021-06-04T04:44:45.88688Z",
     "iopub.status.busy": "2021-06-04T04:44:45.886402Z",
     "iopub.status.idle": "2021-06-04T04:44:45.89471Z",
     "shell.execute_reply": "2021-06-04T04:44:45.893495Z",
     "shell.execute_reply.started": "2021-06-04T04:44:45.886836Z"
    }
   },
   "outputs": [],
   "source": [
    "device = torch.device(\"cuda:0\" if torch.cuda.is_available() else \"cpu\")\n",
    "device"
   ]
  },
  {
   "cell_type": "code",
   "execution_count": null,
   "metadata": {
    "execution": {
     "iopub.execute_input": "2021-06-04T04:48:03.312171Z",
     "iopub.status.busy": "2021-06-04T04:48:03.311723Z",
     "iopub.status.idle": "2021-06-04T04:48:04.073729Z",
     "shell.execute_reply": "2021-06-04T04:48:04.072451Z",
     "shell.execute_reply.started": "2021-06-04T04:48:03.312127Z"
    },
    "scrolled": true
   },
   "outputs": [],
   "source": [
    "directories = ['campus']\n",
    "output_dir = './reduced_frames'\n",
    "\n",
    "dir_files = {}\n",
    "\n",
    "for directory in directories:\n",
    "    for dirname, _, filenames in os.walk('/kaggle/input/multi-camera-person-tracking-frames/frames/' + directory):\n",
    "        files = []\n",
    "        filenames = map(lambda x: x.split(\".\")[0],filenames)\n",
    "        for filename in sorted(filenames,key=int):\n",
    "            files.append(os.path.join(dirname, filename + \".jpg\"))\n",
    "            print(os.path.join(dirname, filename + \".jpg\"))\n",
    "        dir_files[directory] = files"
   ]
  },
  {
   "cell_type": "code",
   "execution_count": null,
   "metadata": {
    "execution": {
     "iopub.execute_input": "2021-06-04T04:45:19.862577Z",
     "iopub.status.busy": "2021-06-04T04:45:19.862166Z",
     "iopub.status.idle": "2021-06-04T04:46:19.21886Z",
     "shell.execute_reply": "2021-06-04T04:46:19.217453Z",
     "shell.execute_reply.started": "2021-06-04T04:45:19.862544Z"
    },
    "scrolled": true
   },
   "outputs": [],
   "source": [
    "from PIL import Image\n",
    "## Storing a Dict of all the files with the label of a particular Scene\n",
    "images = {}\n",
    "for key in dir_files:\n",
    "    vecs = []\n",
    "    for file in dir_files[key]:\n",
    "        vecs.append(Image.open(file).convert('RGB'))\n",
    "        print(len(vecs))\n",
    "    images[key] = vecs\n",
    "    print(images)"
   ]
  },
  {
   "cell_type": "code",
   "execution_count": null,
   "metadata": {
    "execution": {
     "iopub.execute_input": "2021-06-04T04:46:24.233601Z",
     "iopub.status.busy": "2021-06-04T04:46:24.233177Z",
     "iopub.status.idle": "2021-06-04T04:46:24.242242Z",
     "shell.execute_reply": "2021-06-04T04:46:24.240977Z",
     "shell.execute_reply.started": "2021-06-04T04:46:24.233563Z"
    }
   },
   "outputs": [],
   "source": [
    "len(images)"
   ]
  },
  {
   "cell_type": "code",
   "execution_count": null,
   "metadata": {
    "execution": {
     "iopub.execute_input": "2021-06-04T04:46:28.916165Z",
     "iopub.status.busy": "2021-06-04T04:46:28.915729Z",
     "iopub.status.idle": "2021-06-04T04:46:40.224489Z",
     "shell.execute_reply": "2021-06-04T04:46:40.223197Z",
     "shell.execute_reply.started": "2021-06-04T04:46:28.916123Z"
    },
    "scrolled": true
   },
   "outputs": [],
   "source": [
    "import imagehash\n",
    "# Creating ImageHashes for each of these frame to check similarity between them\n",
    "all_hashes = []\n",
    "cnt = 0\n",
    "for img in images['campus']:\n",
    "    print(imagehash.average_hash(img))\n",
    "    all_hashes.append(imagehash.average_hash(img))\n",
    "    print(cnt)\n",
    "    \n",
    "    cnt += 1"
   ]
  },
  {
   "cell_type": "code",
   "execution_count": null,
   "metadata": {
    "execution": {
     "iopub.execute_input": "2021-06-04T04:46:50.338727Z",
     "iopub.status.busy": "2021-06-04T04:46:50.338139Z",
     "iopub.status.idle": "2021-06-04T04:46:50.425917Z",
     "shell.execute_reply": "2021-06-04T04:46:50.424655Z",
     "shell.execute_reply.started": "2021-06-04T04:46:50.338685Z"
    },
    "scrolled": true
   },
   "outputs": [],
   "source": [
    "# Main Algorithm for reduction which compares our current frame with a series of next frames until \n",
    "# a threshold change is detected\n",
    "\n",
    "def reduce_frames():\n",
    "    prev_f_idx = 0\n",
    "    next_f_idx = 1\n",
    "    init_val = all_hashes[next_f_idx] - all_hashes[prev_f_idx]  \n",
    "    needed_frames = [prev_f_idx,next_f_idx]\n",
    "    threshold = 3\n",
    "    while(next_f_idx < len(all_hashes) - 1):\n",
    "        next_f_idx += 1\n",
    "        if(all_hashes[next_f_idx] - all_hashes[prev_f_idx] >= threshold):\n",
    "            needed_frames.append(next_f_idx)\n",
    "            prev_f_idx = next_f_idx\n",
    "        else:\n",
    "            continue\n",
    "        print(len(needed_frames))\n",
    "    return needed_frames\n",
    "\n",
    "reduced = reduce_frames()\n",
    "        "
   ]
  },
  {
   "cell_type": "code",
   "execution_count": null,
   "metadata": {
    "execution": {
     "iopub.execute_input": "2021-06-04T04:46:58.423484Z",
     "iopub.status.busy": "2021-06-04T04:46:58.423075Z",
     "iopub.status.idle": "2021-06-04T04:46:58.430563Z",
     "shell.execute_reply": "2021-06-04T04:46:58.429207Z",
     "shell.execute_reply.started": "2021-06-04T04:46:58.42345Z"
    }
   },
   "outputs": [],
   "source": [
    "len(reduced)"
   ]
  },
  {
   "cell_type": "code",
   "execution_count": null,
   "metadata": {
    "execution": {
     "iopub.execute_input": "2021-06-04T04:47:13.613536Z",
     "iopub.status.busy": "2021-06-04T04:47:13.613134Z",
     "iopub.status.idle": "2021-06-04T04:47:13.790117Z",
     "shell.execute_reply": "2021-06-04T04:47:13.786948Z",
     "shell.execute_reply.started": "2021-06-04T04:47:13.613501Z"
    },
    "scrolled": true
   },
   "outputs": [],
   "source": [
    "# Storing the output of these indexes in a file\n",
    "\n",
    "with open(\"reduced_frames_\" + list(images.keys())[0] + \".txt\", \"w\") as file1:\n",
    "    # Writing data to a file\n",
    "    for num in reduced:\n",
    "        print(str(num) + \"-\")\n",
    "        file1.write(str(num) + \"-\")\n",
    "\n",
    "file1.close()"
   ]
  },
  {
   "cell_type": "code",
   "execution_count": null,
   "metadata": {
    "execution": {
     "iopub.execute_input": "2021-06-04T04:47:18.77738Z",
     "iopub.status.busy": "2021-06-04T04:47:18.776972Z",
     "iopub.status.idle": "2021-06-04T04:47:20.433771Z",
     "shell.execute_reply": "2021-06-04T04:47:20.43271Z",
     "shell.execute_reply.started": "2021-06-04T04:47:18.777345Z"
    },
    "scrolled": true
   },
   "outputs": [],
   "source": [
    "## Displaying the top frames for a scene\n",
    "import matplotlib.pyplot as plt\n",
    "\n",
    "w = 5\n",
    "h = 5\n",
    "\n",
    "load_img = lambda filename: np.array(Image.open(f\"{filename}\").resize((200, 200)))\n",
    "\n",
    "_, axes_list = plt.subplots(h, w, figsize=(12, 12)) # define a grid of (w, h)\n",
    "\n",
    "# print(axes_list)\n",
    "\n",
    "cnt = 0\n",
    "imgs_to_copy = []\n",
    "for axes in axes_list:\n",
    "    for ax in axes:\n",
    "        ax.axis('off')\n",
    "        img = \"/kaggle/input/multi-camera-person-tracking-frames/frames/\"+ list(images.keys())[0] + \"/\" + str(reduced[cnt]) + \".jpg\"\n",
    "        imgs_to_copy.append(img)\n",
    "        cnt += 1\n",
    "        ax.imshow(load_img(img)) # load and show\n",
    "#         ax.set_title(img)"
   ]
  },
  {
   "cell_type": "code",
   "execution_count": null,
   "metadata": {
    "execution": {
     "iopub.execute_input": "2021-06-04T04:48:08.856981Z",
     "iopub.status.busy": "2021-06-04T04:48:08.856455Z",
     "iopub.status.idle": "2021-06-04T04:48:10.681692Z",
     "shell.execute_reply": "2021-06-04T04:48:10.680482Z",
     "shell.execute_reply.started": "2021-06-04T04:48:08.856939Z"
    }
   },
   "outputs": [],
   "source": [
    "# Copying the files from our input to a reduced_frames folder\n",
    "!rm -rf reduced_frames\n",
    "!mkdir reduced_frames\n",
    "# !cp \n",
    "import shutil\n",
    "\n",
    "for cnt in range(len(reduced)):\n",
    "    img = \"/kaggle/input/multi-camera-person-tracking-frames/frames/\"+ list(images.keys())[0] + \"/\" + str(reduced[cnt]) + \".jpg\"\n",
    "    shutil.copyfile(img, output_dir + \"/\" +  str(reduced[cnt]) + \".jpg\")\n"
   ]
  },
  {
   "cell_type": "code",
   "execution_count": null,
   "metadata": {
    "execution": {
     "iopub.execute_input": "2021-06-04T04:48:18.244247Z",
     "iopub.status.busy": "2021-06-04T04:48:18.243508Z",
     "iopub.status.idle": "2021-06-04T04:48:19.022985Z",
     "shell.execute_reply": "2021-06-04T04:48:19.021644Z",
     "shell.execute_reply.started": "2021-06-04T04:48:18.244191Z"
    },
    "scrolled": true
   },
   "outputs": [],
   "source": [
    "!ls -l ./reduced_frames\n",
    "# !zip ./reduced_frames "
   ]
  },
  {
   "cell_type": "code",
   "execution_count": null,
   "metadata": {
    "execution": {
     "iopub.execute_input": "2021-06-04T04:48:33.749822Z",
     "iopub.status.busy": "2021-06-04T04:48:33.74938Z",
     "iopub.status.idle": "2021-06-04T04:48:35.027071Z",
     "shell.execute_reply": "2021-06-04T04:48:35.025848Z",
     "shell.execute_reply.started": "2021-06-04T04:48:33.749773Z"
    },
    "scrolled": true
   },
   "outputs": [],
   "source": [
    "!tar -czvf red_frames_new.tar.gz ./reduced_frames"
   ]
  },
  {
   "cell_type": "code",
   "execution_count": null,
   "metadata": {
    "execution": {
     "iopub.execute_input": "2021-06-04T04:49:01.274898Z",
     "iopub.status.busy": "2021-06-04T04:49:01.274462Z",
     "iopub.status.idle": "2021-06-04T04:49:01.282075Z",
     "shell.execute_reply": "2021-06-04T04:49:01.28116Z",
     "shell.execute_reply.started": "2021-06-04T04:49:01.27485Z"
    }
   },
   "outputs": [],
   "source": [
    "from IPython.display import FileLink\n",
    "\n",
    "FileLink(r'red_frames_new.tar.gz')\n",
    "# FileLink(r'reduced_frames_' + list(images.keys())[0] + \".txt\")"
   ]
  },
  {
   "cell_type": "code",
   "execution_count": null,
   "metadata": {},
   "outputs": [],
   "source": []
  }
 ],
 "metadata": {
  "kernelspec": {
   "display_name": "Python 3",
   "language": "python",
   "name": "python3"
  },
  "language_info": {
   "codemirror_mode": {
    "name": "ipython",
    "version": 3
   },
   "file_extension": ".py",
   "mimetype": "text/x-python",
   "name": "python",
   "nbconvert_exporter": "python",
   "pygments_lexer": "ipython3",
   "version": "3.7.7"
  }
 },
 "nbformat": 4,
 "nbformat_minor": 4
}
